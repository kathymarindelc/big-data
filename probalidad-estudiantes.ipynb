{
  "nbformat": 4,
  "nbformat_minor": 0,
  "metadata": {
    "colab": {
      "name": "Regresión logística1.ipynb",
      "provenance": []
    },
    "kernelspec": {
      "name": "python3",
      "display_name": "Python 3"
    },
    "language_info": {
      "name": "python"
    }
  },
  "cells": [
    {
      "cell_type": "markdown",
      "metadata": {
        "id": "DSqnG7t8A5i3"
      },
      "source": [
        "## ***REGRESIÓN LOGÍSTICA ***\n",
        "\n",
        "Vamos a suponer que queremos predecir cuál es la probabilidad que tiene un estudiante de aprobar un examen en función de las horas que ha estudiado. Date cuenta que para 1.75 horas de estudio, hay un estudiante que aprueba y el otro que no.\n",
        "\n",
        "*Problema tomado de *(https://www.iartificial.net/como-usar-regresion-logistica-en-python/)\n",
        "\n",
        "La regresión Logística incialmente se usa para clasificaciones en terminos binarios es decir donde la salida (target) puede determinar si pertene a un grupo u otro dependiendo el contexto problema. pero tambien nos permite enontrar la probabilidad que el evento pase o no lo cual lo hace realmente interesante dado su funcionalidad aplicada.\n",
        "\n",
        "Para este caso en particular la variable de salida (y) sera:\n",
        "\n",
        "0 = No aprobar la asignatura de estadística aplicada.\n",
        "1 = Aprobar la asignatura estadística aplicada.\n",
        "\n",
        "Mientras que la variable de entrada (x) (en este caso solo sera una pero podria ser multivariable) seria las horas de estudio.\n",
        "\n"
      ]
    },
    {
      "cell_type": "code",
      "metadata": {
        "id": "WoX2NmEWZ9GG"
      },
      "source": [
        "# Paso 1: importamos las librerías \n",
        "import numpy as np\n",
        "import pandas as pd\n",
        "from sklearn import linear_model\n",
        "from sklearn.linear_model import LogisticRegression\n",
        "import matplotlib.pyplot as plt\n",
        "import seaborn as sb\n"
      ],
      "execution_count": 106,
      "outputs": []
    },
    {
      "cell_type": "code",
      "metadata": {
        "colab": {
          "base_uri": "https://localhost:8080/"
        },
        "id": "WIXvIn70dPsv",
        "outputId": "4fef1a78-4f34-4521-8393-c68002909494"
      },
      "source": [
        "# Paso 2: preparamos los datos (notese que en este caso se introduciran directamente como matrices(arrays))\n",
        "\n",
        "X = np.array([0.5, 0.75, 1, 1.25, 1.5, 1.75, 1.75, 2, 2.25, 2.5, 2.75, 3, 3.25, 3.5, 4, 4.25, 4.5, 4.75, 5, 5.5]).reshape(-1,1)\n",
        "y = np.array([0, 0, 0, 0, 0, 0, 1, 0, 1, 0, 1, 0, 1, 0, 1, 1, 1, 1, 1, 1])\n",
        "dfx = pd.DataFrame(X, columns = [\"Horas de estudio\"])\n",
        "dfy = pd.DataFrame(y, columns = ['Aprobo'])\n",
        "dfcombine = dfx.join(dfy)\n",
        "print(dfcombine)"
      ],
      "execution_count": 107,
      "outputs": [
        {
          "output_type": "stream",
          "name": "stdout",
          "text": [
            "    Horas de estudio  Aprobo\n",
            "0               0.50       0\n",
            "1               0.75       0\n",
            "2               1.00       0\n",
            "3               1.25       0\n",
            "4               1.50       0\n",
            "5               1.75       0\n",
            "6               1.75       1\n",
            "7               2.00       0\n",
            "8               2.25       1\n",
            "9               2.50       0\n",
            "10              2.75       1\n",
            "11              3.00       0\n",
            "12              3.25       1\n",
            "13              3.50       0\n",
            "14              4.00       1\n",
            "15              4.25       1\n",
            "16              4.50       1\n",
            "17              4.75       1\n",
            "18              5.00       1\n",
            "19              5.50       1\n"
          ]
        }
      ]
    },
    {
      "cell_type": "code",
      "metadata": {
        "colab": {
          "base_uri": "https://localhost:8080/",
          "height": 299
        },
        "id": "kBqEP0_DJdaV",
        "outputId": "58886e76-8154-4fd5-e18f-2434c6f8852c"
      },
      "source": [
        "#Estadistica descriptiva de los datos \n",
        "dfcombine.describe()"
      ],
      "execution_count": 108,
      "outputs": [
        {
          "output_type": "execute_result",
          "data": {
            "text/html": [
              "<div>\n",
              "<style scoped>\n",
              "    .dataframe tbody tr th:only-of-type {\n",
              "        vertical-align: middle;\n",
              "    }\n",
              "\n",
              "    .dataframe tbody tr th {\n",
              "        vertical-align: top;\n",
              "    }\n",
              "\n",
              "    .dataframe thead th {\n",
              "        text-align: right;\n",
              "    }\n",
              "</style>\n",
              "<table border=\"1\" class=\"dataframe\">\n",
              "  <thead>\n",
              "    <tr style=\"text-align: right;\">\n",
              "      <th></th>\n",
              "      <th>Horas de estudio</th>\n",
              "      <th>Aprobo</th>\n",
              "    </tr>\n",
              "  </thead>\n",
              "  <tbody>\n",
              "    <tr>\n",
              "      <th>count</th>\n",
              "      <td>20.000000</td>\n",
              "      <td>20.000000</td>\n",
              "    </tr>\n",
              "    <tr>\n",
              "      <th>mean</th>\n",
              "      <td>2.787500</td>\n",
              "      <td>0.500000</td>\n",
              "    </tr>\n",
              "    <tr>\n",
              "      <th>std</th>\n",
              "      <td>1.507165</td>\n",
              "      <td>0.512989</td>\n",
              "    </tr>\n",
              "    <tr>\n",
              "      <th>min</th>\n",
              "      <td>0.500000</td>\n",
              "      <td>0.000000</td>\n",
              "    </tr>\n",
              "    <tr>\n",
              "      <th>25%</th>\n",
              "      <td>1.687500</td>\n",
              "      <td>0.000000</td>\n",
              "    </tr>\n",
              "    <tr>\n",
              "      <th>50%</th>\n",
              "      <td>2.625000</td>\n",
              "      <td>0.500000</td>\n",
              "    </tr>\n",
              "    <tr>\n",
              "      <th>75%</th>\n",
              "      <td>4.062500</td>\n",
              "      <td>1.000000</td>\n",
              "    </tr>\n",
              "    <tr>\n",
              "      <th>max</th>\n",
              "      <td>5.500000</td>\n",
              "      <td>1.000000</td>\n",
              "    </tr>\n",
              "  </tbody>\n",
              "</table>\n",
              "</div>"
            ],
            "text/plain": [
              "       Horas de estudio     Aprobo\n",
              "count         20.000000  20.000000\n",
              "mean           2.787500   0.500000\n",
              "std            1.507165   0.512989\n",
              "min            0.500000   0.000000\n",
              "25%            1.687500   0.000000\n",
              "50%            2.625000   0.500000\n",
              "75%            4.062500   1.000000\n",
              "max            5.500000   1.000000"
            ]
          },
          "metadata": {},
          "execution_count": 108
        }
      ]
    },
    {
      "cell_type": "code",
      "metadata": {
        "id": "3I3G_KYfKyxy"
      },
      "source": [
        ""
      ],
      "execution_count": 108,
      "outputs": []
    },
    {
      "cell_type": "markdown",
      "metadata": {
        "id": "wFilqvG7Kzxf"
      },
      "source": [
        "# **Exploración gráfica para comprender los datos.**"
      ]
    },
    {
      "cell_type": "code",
      "metadata": {
        "colab": {
          "base_uri": "https://localhost:8080/",
          "height": 315
        },
        "id": "D2_bqMJqJwip",
        "outputId": "185d6d92-92d3-4f36-a826-ec7bfdda36c3"
      },
      "source": [
        "dfcombine.hist(\"Horas de estudio\")"
      ],
      "execution_count": 109,
      "outputs": [
        {
          "output_type": "execute_result",
          "data": {
            "text/plain": [
              "array([[<matplotlib.axes._subplots.AxesSubplot object at 0x7fc3d6e1a450>]],\n",
              "      dtype=object)"
            ]
          },
          "metadata": {},
          "execution_count": 109
        },
        {
          "output_type": "display_data",
          "data": {
            "image/png": "[encoded data removed]",
            "text/plain": [
              "<Figure size 432x288 with 1 Axes>"
            ]
          },
          "metadata": {
            "needs_background": "light"
          }
        }
      ]
    },
    {
      "cell_type": "code",
      "metadata": {
        "colab": {
          "base_uri": "https://localhost:8080/",
          "height": 293
        },
        "id": "IBQm1-j5KpcD",
        "outputId": "4f293746-a348-433d-ed53-adf3595bdb82"
      },
      "source": [
        "dfcombine.value_counts(\"Aprobo\").plot(kind=\"bar\")"
      ],
      "execution_count": 110,
      "outputs": [
        {
          "output_type": "execute_result",
          "data": {
            "text/plain": [
              "<matplotlib.axes._subplots.AxesSubplot at 0x7fc3d6da2290>"
            ]
          },
          "metadata": {},
          "execution_count": 110
        },
        {
          "output_type": "display_data",
          "data": {
            "image/png": "[encoded data removed]",
            "text/plain": [
              "<Figure size 432x288 with 1 Axes>"
            ]
          },
          "metadata": {
            "needs_background": "light"
          }
        }
      ]
    },
    {
      "cell_type": "code",
      "metadata": {
        "colab": {
          "base_uri": "https://localhost:8080/",
          "height": 112
        },
        "id": "kO5jG2ouMXgw",
        "outputId": "a4ad66d1-84d5-44da-9cfc-2eef82146ffc"
      },
      "source": [
        "#identificar correlacion de las variables\n",
        "dfcombine.corr()"
      ],
      "execution_count": 111,
      "outputs": [
        {
          "output_type": "execute_result",
          "data": {
            "text/html": [
              "<div>\n",
              "<style scoped>\n",
              "    .dataframe tbody tr th:only-of-type {\n",
              "        vertical-align: middle;\n",
              "    }\n",
              "\n",
              "    .dataframe tbody tr th {\n",
              "        vertical-align: top;\n",
              "    }\n",
              "\n",
              "    .dataframe thead th {\n",
              "        text-align: right;\n",
              "    }\n",
              "</style>\n",
              "<table border=\"1\" class=\"dataframe\">\n",
              "  <thead>\n",
              "    <tr style=\"text-align: right;\">\n",
              "      <th></th>\n",
              "      <th>Horas de estudio</th>\n",
              "      <th>Aprobo</th>\n",
              "    </tr>\n",
              "  </thead>\n",
              "  <tbody>\n",
              "    <tr>\n",
              "      <th>Horas de estudio</th>\n",
              "      <td>1.000000</td>\n",
              "      <td>0.689243</td>\n",
              "    </tr>\n",
              "    <tr>\n",
              "      <th>Aprobo</th>\n",
              "      <td>0.689243</td>\n",
              "      <td>1.000000</td>\n",
              "    </tr>\n",
              "  </tbody>\n",
              "</table>\n",
              "</div>"
            ],
            "text/plain": [
              "                  Horas de estudio    Aprobo\n",
              "Horas de estudio          1.000000  0.689243\n",
              "Aprobo                    0.689243  1.000000"
            ]
          },
          "metadata": {},
          "execution_count": 111
        }
      ]
    },
    {
      "cell_type": "code",
      "metadata": {
        "colab": {
          "base_uri": "https://localhost:8080/"
        },
        "id": "_NtRoChjPwfC",
        "outputId": "9ae031bb-5cd2-47e2-bfdf-eff116abb484"
      },
      "source": [
        "#creando el modelo de regresión logística\n",
        "model = LogisticRegression()\n",
        "model.fit(X,y)"
      ],
      "execution_count": 112,
      "outputs": [
        {
          "output_type": "execute_result",
          "data": {
            "text/plain": [
              "LogisticRegression(C=1.0, class_weight=None, dual=False, fit_intercept=True,\n",
              "                   intercept_scaling=1, l1_ratio=None, max_iter=100,\n",
              "                   multi_class='auto', n_jobs=None, penalty='l2',\n",
              "                   random_state=None, solver='lbfgs', tol=0.0001, verbose=0,\n",
              "                   warm_start=False)"
            ]
          },
          "metadata": {},
          "execution_count": 112
        }
      ]
    },
    {
      "cell_type": "code",
      "metadata": {
        "colab": {
          "base_uri": "https://localhost:8080/"
        },
        "id": "FsudTFabRr18",
        "outputId": "35bfe0d7-f73b-4564-86fe-dc94d63533d8"
      },
      "source": [
        "# Información del modelo\n",
        "# ==============================================================================\n",
        "print(\"Intercept:\", model.intercept_)\n",
        "print(\"Coeficiente:\", model.coef_ )\n",
        "print(\"Accuracy de entrenamiento:\", model.score(X, y)) "
      ],
      "execution_count": 113,
      "outputs": [
        {
          "output_type": "stream",
          "name": "stdout",
          "text": [
            "Intercept: [-3.13952411]\n",
            "Coeficiente: [[1.14860386]]\n",
            "Accuracy de entrenamiento: 0.8\n"
          ]
        }
      ]
    },
    {
      "cell_type": "code",
      "metadata": {
        "colab": {
          "base_uri": "https://localhost:8080/"
        },
        "id": "RmGnsKphS45e",
        "outputId": "82d9752e-2575-47ba-d85f-223fe4510cc8"
      },
      "source": [
        "#realizando predicciones frente al modelo y nuevos datos\n",
        "X_nuevo = np.array([1, 2, 3, 4, 5, 6]).reshape(-1,1)\n",
        "\n",
        "#Usa el modelo entrenado para obtener las predicciones con datos nuevos\n",
        "prediccion = model.predict(X_nuevo)\n",
        "print(prediccion)\n",
        "# produce el resultado: [0 0 1 1 1 1]  \n",
        "# En este caso estamos observando que: \n",
        "    # una persona que estudia 1 horas no aprobaria\n",
        "    # una persona que estudia 2 horas no aprobaria\n",
        "    # una persona que estudia 3 horas aprobaria\n",
        "#y asi sucesivamnete "
      ],
      "execution_count": 114,
      "outputs": [
        {
          "output_type": "stream",
          "name": "stdout",
          "text": [
            "[0 0 1 1 1 1]\n"
          ]
        }
      ]
    },
    {
      "cell_type": "code",
      "metadata": {
        "colab": {
          "base_uri": "https://localhost:8080/"
        },
        "id": "nW7QWBytTxkZ",
        "outputId": "facf5ea8-5ac7-466d-ccb0-1a10f0a34c90"
      },
      "source": [
        "#hallando las probabilidades de aprobar o no\n",
        "probabilidades_prediccion = model.predict_proba(X_nuevo)\n",
        "print(probabilidades_prediccion)\n",
        "#print(probabilidades_prediccion[:,1])\n",
        "#primera columa probabilidad de aprobar , segunda Columna probabilidad de no aprobar"
      ],
      "execution_count": 115,
      "outputs": [
        {
          "output_type": "stream",
          "name": "stdout",
          "text": [
            "[[0.87984046 0.12015954]\n",
            " [0.69895285 0.30104715]\n",
            " [0.42402118 0.57597882]\n",
            " [0.18924992 0.81075008]\n",
            " [0.06891381 0.93108619]\n",
            " [0.02293029 0.97706971]]\n"
          ]
        }
      ]
    }
  ]
}